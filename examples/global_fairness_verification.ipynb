{
 "cells": [
  {
   "cell_type": "code",
   "execution_count": 1,
   "id": "1220bb3c-ba92-4dbc-8694-5ef71fad0f13",
   "metadata": {},
   "outputs": [],
   "source": [
    "%load_ext autoreload\n",
    "%autoreload 2"
   ]
  },
  {
   "cell_type": "markdown",
   "id": "62fea57b-cfdf-43d3-b811-be5c3f80782d",
   "metadata": {},
   "source": [
    "# Global Fairness Verification example\n",
    "\n",
    "*Based on Calzavara et al. Explainable Global Fairness Veriﬁcation of Tree-Based Classiﬁers\" (2022).*\n",
    "\n",
    "This example focuses on fairness that expresses (a lack of) causal discrimination. It is a global fairness (or verification of global robustness) task which means that is does not rely on the choice of a specific test set, but (implicitly) ranges over all possible instances."
   ]
  },
  {
   "cell_type": "markdown",
   "id": "227fe8d9-320e-4e4e-a156-830f0c8f46b0",
   "metadata": {},
   "source": [
    "## Preliminaries"
   ]
  },
  {
   "cell_type": "code",
   "execution_count": 2,
   "id": "14f9a281-69d4-4990-8870-f973202cf064",
   "metadata": {},
   "outputs": [],
   "source": [
    "import time\n",
    "from sklearn import datasets\n",
    "from sklearn.model_selection import train_test_split\n",
    "from sklearn.preprocessing import OrdinalEncoder\n",
    "import numpy as np\n",
    "import pandas as pd\n",
    "from tqdm import tqdm\n",
    "import matplotlib.pyplot as plt"
   ]
  },
  {
   "cell_type": "markdown",
   "id": "07cc3f8b-21aa-45b8-a950-20efdb0c3a37",
   "metadata": {},
   "source": [
    "## German dataset"
   ]
  },
  {
   "cell_type": "markdown",
   "id": "3dcb5180-6551-43f8-b369-c4f6e0177686",
   "metadata": {},
   "source": [
    "We will use the [German Credit Data](https://archive.ics.uci.edu/dataset/144/statlog+german+credit+data) benchmark dataset."
   ]
  },
  {
   "cell_type": "markdown",
   "id": "4e94fa0c-2399-4a7f-a460-61314d62cdad",
   "metadata": {},
   "source": [
    "### Load the data"
   ]
  },
  {
   "cell_type": "code",
   "execution_count": 3,
   "id": "3eb318d6-9113-49f3-ba83-472a18f63d7a",
   "metadata": {},
   "outputs": [],
   "source": [
    "X_df, y_df = datasets.fetch_openml(data_id=31, return_X_y=True, as_frame=True)"
   ]
  },
  {
   "cell_type": "markdown",
   "id": "c523b787-b246-446f-9f5f-ec5b5e01a279",
   "metadata": {},
   "source": [
    "Make the target numerical"
   ]
  },
  {
   "cell_type": "code",
   "execution_count": 4,
   "id": "9c561cd5-5d82-4127-ac3a-4c6f91ed37c4",
   "metadata": {},
   "outputs": [],
   "source": [
    "y = (y_df=='good').astype(int)"
   ]
  },
  {
   "cell_type": "code",
   "execution_count": 5,
   "id": "6a369f1b-a207-41ad-b67f-4b5f9b7603cf",
   "metadata": {},
   "outputs": [],
   "source": [
    "ordinal_feature_indexes = [0, 2, 3, 5, 6, 8, 9, 11, 13, 14, 16, 18, 19]\n",
    "ord_enc = OrdinalEncoder(categories=[\n",
    "    ['<0', '0<=X<200', '>=200', 'no checking'], # 0: checking_status\n",
    "    ['no credits/all paid', 'all paid', 'existing paid', 'delayed previously', 'critical/other existing credit'], # 2: credit_history\n",
    "    ['domestic appliance', 'furniture/equipment', 'radio/tv', 'repairs',\n",
    "         'new car', 'used car', 'business', 'education', 'retraining', 'other'], # 3: purpose, likely better as one-hot\n",
    "    ['<100', '100<=X<500', '500<=X<1000', '>=1000', 'no known savings'], # 5: saving_status\n",
    "    ['<1', '1<=X<4', '4<=X<7', '>=7', 'unemployed'], # 6: employment\n",
    "    ['female div/dep/mar', 'male div/sep', 'male mar/wid', 'male single'], # 8: personal_status\n",
    "    ['none', 'co applicant', 'guarantor'], # 9: other parties\n",
    "    ['no known property', 'car', 'real estate', 'life insurance'], # 11: property_magnitude\n",
    "    ['none', 'stores', 'bank'], # 13: other_payment_plans\n",
    "    ['for free', 'rent', 'own'], # 14: housing\n",
    "    ['unemp/unskilled non res', 'unskilled resident', 'skilled', 'high qualif/self emp/mgmt'], # 16: job\n",
    "    ['none', 'yes'], # 18: own_telephone\n",
    "    ['no', 'yes'], # 19: foreign_worker\n",
    "])\n",
    "ordinals = ord_enc.fit_transform(X_df.iloc[:, ordinal_feature_indexes])\n",
    "columns = []\n",
    "for k in range(X_df.shape[1]):\n",
    "    if k in ordinal_feature_indexes:\n",
    "        u = [u for u, v in enumerate(ordinal_feature_indexes) if v == k][0]\n",
    "        columns.append(ordinals[:, u])\n",
    "    else:\n",
    "        columns.append(X_df.iloc[:, k].values)\n",
    "X_df = pd.DataFrame(np.array(columns).T, columns=X_df.columns)"
   ]
  },
  {
   "cell_type": "code",
   "execution_count": 6,
   "id": "2dd8ee74-bc89-4496-98c1-1aea260f0460",
   "metadata": {},
   "outputs": [],
   "source": [
    "X = X_df.to_numpy()"
   ]
  },
  {
   "cell_type": "markdown",
   "id": "3d8f52c1-4b83-4186-855b-81f10173e7bd",
   "metadata": {},
   "source": [
    "We will focus on sex as a relevant parameter, thus will split up column 9 (index 8) 'personal_status'."
   ]
  },
  {
   "cell_type": "code",
   "execution_count": 7,
   "id": "da0e0c8c-29e8-40fa-8a4e-39598a023cdd",
   "metadata": {},
   "outputs": [
    {
     "name": "stdout",
     "output_type": "stream",
     "text": [
      "['female div/dep/mar', 'male div/sep', 'male mar/wid', 'male single']\n"
     ]
    }
   ],
   "source": [
    "# Simplify the personal_status feature to just female/male for simplicity\n",
    "print(ord_enc.categories[5])\n",
    "featmap = [1, 0, 0, 0] # 1 => female, 0 => male\n",
    "X[:, 8] = [featmap[int(val)] for val in X[:, 8]]"
   ]
  },
  {
   "cell_type": "markdown",
   "id": "5e221d13-a20e-4357-a2f6-236d20f64676",
   "metadata": {},
   "source": [
    "Introduce bias: we can optionally introduce bias to make the effect easier to see."
   ]
  },
  {
   "cell_type": "code",
   "execution_count": 8,
   "id": "237137fe-3a95-4ccf-bee1-b6e5c2045a8d",
   "metadata": {},
   "outputs": [],
   "source": [
    "introduce_bias = 100\n",
    "if introduce_bias > 0:\n",
    "    X[0:introduce_bias, :] = X[0, :]\n",
    "    half_idx = int(introduce_bias/2)\n",
    "    X[:half_idx, 8] = 0\n",
    "    y[:half_idx] = 1\n",
    "    X[half_idx:introduce_bias, 8] = 1\n",
    "    y[half_idx:introduce_bias] = 0"
   ]
  },
  {
   "cell_type": "markdown",
   "id": "b07ca660-a037-4a89-a91b-969f6ddabb31",
   "metadata": {},
   "source": [
    "Use train and test set"
   ]
  },
  {
   "cell_type": "code",
   "execution_count": 9,
   "id": "1f2bbd35-8240-4dc3-a82c-e48a8ea66f9e",
   "metadata": {},
   "outputs": [],
   "source": [
    "xtrain, xtest, ytrain, ytest = train_test_split(X, y, test_size=0.2, shuffle=True, random_state=73)"
   ]
  },
  {
   "cell_type": "markdown",
   "id": "0fa6ebb8-3d9a-4e56-a51b-c5ad9b63d31d",
   "metadata": {},
   "source": [
    "### Train the classifier"
   ]
  },
  {
   "cell_type": "code",
   "execution_count": 10,
   "id": "75023e65-bc8d-444e-a324-4b43091e0ff0",
   "metadata": {},
   "outputs": [],
   "source": [
    "import veritas\n",
    "import xgboost as xgb\n",
    "import matplotlib.pyplot as plt\n",
    "from sklearn.metrics import accuracy_score"
   ]
  },
  {
   "cell_type": "markdown",
   "id": "9dbb8f8d-9fe3-487f-a45e-eaa1abf27ea1",
   "metadata": {},
   "source": [
    "The original paper uses 12 trees of depth 6."
   ]
  },
  {
   "cell_type": "code",
   "execution_count": 11,
   "id": "2ab71998-aae8-42bd-a39d-8a901dfcc7d0",
   "metadata": {},
   "outputs": [
    {
     "name": "stdout",
     "output_type": "stream",
     "text": [
      "XGB trained in 0.02 seconds\n"
     ]
    }
   ],
   "source": [
    "n_estimators = 12 # 50\n",
    "params = {\n",
    "    \"n_estimators\": n_estimators,\n",
    "    \"eval_metric\": \"error\",\n",
    "    \"random_state\": 73,\n",
    "    \n",
    "    \"tree_method\": \"hist\",\n",
    "    \"max_depth\": 6,\n",
    "    \"learning_rate\": 0.5,\n",
    "    \"colsample_bynode\": 0.75,\n",
    "    \"subsample\": 1.0,\n",
    "}\n",
    "\n",
    "model = xgb.XGBClassifier(**params)\n",
    "\n",
    "t = time.time()\n",
    "model.fit(X, y)\n",
    "print(f\"XGB trained in {time.time()-t:.2f} seconds\")"
   ]
  },
  {
   "cell_type": "code",
   "execution_count": 12,
   "id": "698b2a65-d0af-438b-be01-6489ccff5531",
   "metadata": {},
   "outputs": [
    {
     "name": "stdout",
     "output_type": "stream",
     "text": [
      "Train acc: 96.0%, test acc: 98.5%\n"
     ]
    }
   ],
   "source": [
    "ytrain_pred = model.predict(xtrain)\n",
    "ytest_pred = model.predict(xtest)\n",
    "acc_train = accuracy_score(ytrain, ytrain_pred)\n",
    "acc_test = accuracy_score(ytest, ytest_pred)\n",
    "\n",
    "print(f\"Train acc: {acc_train*100:.1f}%, test acc: {acc_test*100:.1f}%\")"
   ]
  },
  {
   "cell_type": "markdown",
   "id": "2047df41-4d14-421d-bc76-ae06067171e0",
   "metadata": {},
   "source": [
    "### Global fairness"
   ]
  },
  {
   "cell_type": "markdown",
   "id": "99a91d09-4996-4666-96d5-b6fd239cae4c",
   "metadata": {},
   "source": [
    "The `personal_status` (converted to female/male) is considered sensitive. Who are the subset of people whose credit risk prediction does not change by ﬂipping their sex. This maps to a query where we want to contrast two instances."
   ]
  },
  {
   "cell_type": "markdown",
   "id": "762f38cf-292a-4d15-952e-90e9a658ed9d",
   "metadata": {},
   "source": [
    "Start with loading the trained model, veritas figures out automatically it is a XGB model."
   ]
  },
  {
   "cell_type": "code",
   "execution_count": 13,
   "id": "2b7a3376-924c-49eb-8dac-fbf1555c8436",
   "metadata": {},
   "outputs": [],
   "source": [
    "at = veritas.get_addtree(model, silent=True)"
   ]
  },
  {
   "cell_type": "markdown",
   "id": "8aca69b3-5ead-4a24-8c00-5f1743cac4f8",
   "metadata": {},
   "source": [
    "For two instances X0 and X1, allowing only feature 9 (index 8) 'personal_status' to be different between the two instances, what is the maximum output difference at(X1)-at(X0)?\n",
    "The values that occur are 'male single', 'female div/dep/mar', 'male div/sep' and 'male mar/wid'. Thus only the 2nd (index 1) is female."
   ]
  },
  {
   "cell_type": "code",
   "execution_count": 14,
   "id": "6a585481-598d-4245-b3f2-d60be0578d45",
   "metadata": {},
   "outputs": [
    {
     "name": "stdout",
     "output_type": "stream",
     "text": [
      "  Feature IDs used by instance 0\n",
      "   and instance 1 respectively:\n",
      "---------------------------------\n",
      "checking_status             0   0 \n",
      "duration                    1   1 \n",
      "credit_history              2   2 \n",
      "purpose                     3   3 \n",
      "credit_amount               4   4 \n",
      "savings_status              5   5 \n",
      "employment                  6   6 \n",
      "installment_commitment      7   7 \n",
      "personal_status             8  28 *\n",
      "other_parties               9   9 \n",
      "residence_since            10  10 \n",
      "property_magnitude         11  11 \n",
      "age                        12  12 \n",
      "other_payment_plans        13  13 \n",
      "housing                    14  14 \n",
      "existing_credits           15  15 \n",
      "job                        16  16 \n",
      "num_dependents             17  17 \n",
      "own_telephone              18  18 \n",
      "foreign_worker             19  19 \n"
     ]
    }
   ],
   "source": [
    "def constrast_two_examples(at, columns, nonfixed_columns):\n",
    "    \"\"\"Create an `veritas.AddTree` that contrast two instances.\n",
    "    \n",
    "    The new AddTree outputs difference between the original AddTree's outputs\n",
    "    for instances 0 and 1.\n",
    "\n",
    "    at: The original veritas.AddTree tree ensemble model\n",
    "    columns: array with column names\n",
    "    nonfixed_columns: columns that are allowed to change between the two instances\n",
    "    \"\"\"\n",
    "    feat_map = veritas.FeatMap(columns)\n",
    "    for column in columns:\n",
    "        if column not in nonfixed_cols:\n",
    "            index_for_instance0 = feat_map.get_index(column, 0)\n",
    "            index_for_instance1 = feat_map.get_index(column, 1)\n",
    "            feat_map.use_same_id_for(index_for_instance0, index_for_instance1)\n",
    "\n",
    "    at_for_instance1 = feat_map.transform(at, 1)\n",
    "    at_contrast = at.concat_negated(at_for_instance1)\n",
    "\n",
    "    print(\"  Feature IDs used by instance 0\\n   and instance 1 respectively:\")\n",
    "    print(\"-\"*(25+4+4))\n",
    "    for column in columns:\n",
    "        mark = \"*\" if column in nonfixed_columns else \"\"\n",
    "        feat_id_instance0 = feat_map.get_feat_id(column, 0)\n",
    "        feat_id_instance1 = feat_map.get_feat_id(column, 1)\n",
    "        print(f\"{column:25s} {feat_id_instance0:3d} {feat_id_instance1:3d}\", mark)\n",
    "    \n",
    "    return at_contrast, feat_map\n",
    "\n",
    "nonfixed_cols = {'personal_status'}\n",
    "at_contrast, feat_map = constrast_two_examples(at, X_df.columns, nonfixed_cols)"
   ]
  },
  {
   "cell_type": "code",
   "execution_count": 15,
   "id": "904645d2-4100-4782-95f5-8e7748018b7d",
   "metadata": {},
   "outputs": [
    {
     "name": "stderr",
     "output_type": "stream",
     "text": [
      "lower 6.951, upper 6.877, #sols 9708: : 4328it [00:53, 81.17it/s] \n"
     ]
    }
   ],
   "source": [
    "# We optimize the output of the contrasting ensemble `at_contrast`\n",
    "config = veritas.Config(veritas.HeuristicType.MAX_OUTPUT)\n",
    "\n",
    "# We are interested in cases where the output of instance 0 is greater\n",
    "# than the output of instance 1, i.e., their output difference is greater\n",
    "# than 0.0.\n",
    "config.ignore_state_when_worse_than = 0.0\n",
    "\n",
    "# Obtain the search object from the search configuration\n",
    "# We can optionally constrain certain feature values (e.g., look only for\n",
    "# cases where instance 0 describes a male person)\n",
    "#prune_box = {feat_map.get_feat_id(\"personal_status\", 0): veritas.Interval(0, 0.5)}\n",
    "prune_box = {}\n",
    "search = config.get_search(at_contrast, prune_box)\n",
    "\n",
    "bounds = []\n",
    "num_search_steps_per_iteration = 100\n",
    "stop_reason = veritas.StopReason.NONE\n",
    "\n",
    "with tqdm() as pbar:\n",
    "    #while search.num_solutions() < 10:  # search until we find 10 solutions\n",
    "    while stop_reason != stop_reason.OPTIMAL:  # search until it is certain that the best solution is optimal\n",
    "        stop_reason = search.steps(num_search_steps_per_iteration)\n",
    "        bound_lh = search.current_bounds()\n",
    "        bounds.append((bound_lh.atleast, bound_lh.top_of_open))\n",
    "        pbar.update(1)\n",
    "        pbar.set_description(f\"lower {bound_lh.atleast:.3f}, \"\n",
    "                             f\"upper {bound_lh.top_of_open:.3f}, \"\n",
    "                             f\"#sols {search.num_solutions():<4d}\")"
   ]
  },
  {
   "cell_type": "code",
   "execution_count": 16,
   "id": "d1e115ec-b7ba-4da9-8a22-ee019300f855",
   "metadata": {},
   "outputs": [
    {
     "data": {
      "image/png": "[encoded data removed]",
      "text/plain": [
       "<Figure size 500x200 with 1 Axes>"
      ]
     },
     "metadata": {},
     "output_type": "display_data"
    }
   ],
   "source": [
    "lo, hi = zip(*bounds)\n",
    "i = list(range(len(bounds)))\n",
    "sol = search.get_solution(0) # best solution so far\n",
    "plt.figure(figsize=(5,2))\n",
    "plt.plot(i, lo)\n",
    "plt.plot(i, hi);\n",
    "plt.xlabel(f'Nb steps / {num_search_steps_per_iteration}')\n",
    "plt.ylabel('at(X1)-at(X0)')\n",
    "plt.scatter(len(bounds)-1, sol.output, marker=\"x\", color=\"red\");"
   ]
  },
  {
   "cell_type": "markdown",
   "id": "549dfd43-0768-4b4b-880f-a11ef483c8c4",
   "metadata": {},
   "source": [
    "We found multiple solutions."
   ]
  },
  {
   "cell_type": "code",
   "execution_count": 17,
   "id": "b46354ad-cf82-4174-8cf8-52bb3b75e512",
   "metadata": {},
   "outputs": [
    {
     "data": {
      "image/png": "[encoded data removed]",
      "text/plain": [
       "<Figure size 500x200 with 1 Axes>"
      ]
     },
     "metadata": {},
     "output_type": "display_data"
    }
   ],
   "source": [
    "plt.figure(figsize=(5,2))\n",
    "sol_i = list(range(search.num_solutions()))\n",
    "sol_values = [search.get_solution(i).output for i in sol_i]\n",
    "plt.xlabel('Solution')\n",
    "plt.ylabel('at(X1)-at(X0)')\n",
    "plt.scatter(sol_i, sol_values, s=10, marker=\"x\", lw=0.1, color=\"red\");"
   ]
  },
  {
   "cell_type": "markdown",
   "id": "587a250d-a6b5-4d21-a3d1-fba15608f718",
   "metadata": {},
   "source": [
    "We will focus on that solution where the model is most sure that the target should be different even though only sex is different."
   ]
  },
  {
   "cell_type": "code",
   "execution_count": 18,
   "id": "2206d114-9296-44f7-bd65-ec62a5b4c839",
   "metadata": {},
   "outputs": [
    {
     "name": "stdout",
     "output_type": "stream",
     "text": [
      "Maximum difference between instance0 and instance1\n",
      "- current best solution: 6.950628373759333 -> optimal solution\n",
      "- feature value ranges:\n",
      "       0           checking_status Interval(<1)\n",
      "       1                  duration Interval(28,33)\n",
      "       2            credit_history Interval(>=4)\n",
      "       3                   purpose Interval(5,6)\n",
      "       4             credit_amount Interval(1047,1188)\n",
      "       5            savings_status Interval(>=4)\n",
      "       6                employment Interval(>=4)\n",
      "       7    installment_commitment Interval(<3)\n",
      "    *  8           personal_status Interval(<1)\n",
      "       9             other_parties Interval(>=2)\n",
      "      10           residence_since Interval(>=3)\n",
      "      11        property_magnitude Interval(<3)\n",
      "      12                       age Interval(>=67)\n",
      "      13       other_payment_plans Interval(<1)\n",
      "      14                   housing Interval(>=2)\n",
      "      15          existing_credits Interval(>=2)\n",
      "      16                       job Interval(<2)\n",
      "      17            num_dependents Interval(>=2)\n",
      "      19            foreign_worker Interval(>=1)\n",
      "    * 28           personal_status Interval(>=1)\n"
     ]
    }
   ],
   "source": [
    "print(\"Maximum difference between instance0 and instance1\")\n",
    "if search.num_solutions() > 0:\n",
    "    sol = search.get_solution(0)  # best solution so far\n",
    "    print(\"- current best solution:\", sol.output, \"->\",\n",
    "          \"optimal\" if search.is_optimal() else \"suboptimal\", \"solution\")\n",
    "    print(\"- feature value ranges:\")\n",
    "    for feat_id, ival in sol.box().items():\n",
    "        column = feat_map.get_name(feat_id)\n",
    "        mark = \"*\" if column in nonfixed_cols else \" \"\n",
    "        print(f\"    {mark}{feat_id:>3d} {column:>25s}\", ival)"
   ]
  },
  {
   "cell_type": "code",
   "execution_count": 19,
   "id": "4b068924-936d-4c31-a4c7-616e17750891",
   "metadata": {},
   "outputs": [],
   "source": [
    "def contrasting_examples_from_solutions(feat_map, sol, columns):\n",
    "    nb_features = len(feat_map)\n",
    "    two_examples = np.zeros((2, nb_features))\n",
    "    box = sol.box()\n",
    "\n",
    "    for instance in (0, 1):\n",
    "        for column in columns:\n",
    "            feat_id = feat_map.get_feat_id(column, instance)\n",
    "            feat_id_untrasformed = feat_map.get_feat_id(column, 0)\n",
    "            if feat_id in box:\n",
    "                interval = box[feat_id]\n",
    "                if interval.lo_is_unbound():\n",
    "                    assert not interval.hi_is_unbound()\n",
    "                    value = interval.hi - 1e-4  # not inclusive\n",
    "                else:\n",
    "                    value = interval.lo\n",
    "                if feat_id_untrasformed in ordinal_feature_indexes:  # ordinal feature\n",
    "                    value = np.floor(value)\n",
    "                two_examples[instance, feat_id_untrasformed] = value\n",
    "\n",
    "    return pd.DataFrame(two_examples, columns=columns, index=[\"instance 0\", \"instance 1\"])\n",
    "\n",
    "two_examples = contrasting_examples_from_solutions(feat_map, sol, X_df.columns)\n",
    "predictions = pd.Series(model.predict(two_examples), index=[\"instance 0\", \"instance 1\"])"
   ]
  },
  {
   "cell_type": "code",
   "execution_count": 20,
   "id": "c20ecb30-7087-4bbe-b8c8-9e3b8d967f1d",
   "metadata": {},
   "outputs": [
    {
     "data": {
      "text/html": [
       "<div>\n",
       "<style scoped>\n",
       "    .dataframe tbody tr th:only-of-type {\n",
       "        vertical-align: middle;\n",
       "    }\n",
       "\n",
       "    .dataframe tbody tr th {\n",
       "        vertical-align: top;\n",
       "    }\n",
       "\n",
       "    .dataframe thead th {\n",
       "        text-align: right;\n",
       "    }\n",
       "</style>\n",
       "<table border=\"1\" class=\"dataframe\">\n",
       "  <thead>\n",
       "    <tr style=\"text-align: right;\">\n",
       "      <th></th>\n",
       "      <th>instance 0</th>\n",
       "      <th>instance 1</th>\n",
       "    </tr>\n",
       "  </thead>\n",
       "  <tbody>\n",
       "    <tr>\n",
       "      <th>checking_status</th>\n",
       "      <td>0.0</td>\n",
       "      <td>0.0</td>\n",
       "    </tr>\n",
       "    <tr>\n",
       "      <th>duration</th>\n",
       "      <td>28.0</td>\n",
       "      <td>28.0</td>\n",
       "    </tr>\n",
       "    <tr>\n",
       "      <th>credit_history</th>\n",
       "      <td>4.0</td>\n",
       "      <td>4.0</td>\n",
       "    </tr>\n",
       "    <tr>\n",
       "      <th>purpose</th>\n",
       "      <td>5.0</td>\n",
       "      <td>5.0</td>\n",
       "    </tr>\n",
       "    <tr>\n",
       "      <th>credit_amount</th>\n",
       "      <td>1047.0</td>\n",
       "      <td>1047.0</td>\n",
       "    </tr>\n",
       "    <tr>\n",
       "      <th>savings_status</th>\n",
       "      <td>4.0</td>\n",
       "      <td>4.0</td>\n",
       "    </tr>\n",
       "    <tr>\n",
       "      <th>employment</th>\n",
       "      <td>4.0</td>\n",
       "      <td>4.0</td>\n",
       "    </tr>\n",
       "    <tr>\n",
       "      <th>installment_commitment</th>\n",
       "      <td>3.0</td>\n",
       "      <td>3.0</td>\n",
       "    </tr>\n",
       "    <tr>\n",
       "      <th>personal_status</th>\n",
       "      <td>0.0</td>\n",
       "      <td>1.0</td>\n",
       "    </tr>\n",
       "    <tr>\n",
       "      <th>other_parties</th>\n",
       "      <td>2.0</td>\n",
       "      <td>2.0</td>\n",
       "    </tr>\n",
       "    <tr>\n",
       "      <th>residence_since</th>\n",
       "      <td>3.0</td>\n",
       "      <td>3.0</td>\n",
       "    </tr>\n",
       "    <tr>\n",
       "      <th>property_magnitude</th>\n",
       "      <td>2.0</td>\n",
       "      <td>2.0</td>\n",
       "    </tr>\n",
       "    <tr>\n",
       "      <th>age</th>\n",
       "      <td>67.0</td>\n",
       "      <td>67.0</td>\n",
       "    </tr>\n",
       "    <tr>\n",
       "      <th>other_payment_plans</th>\n",
       "      <td>0.0</td>\n",
       "      <td>0.0</td>\n",
       "    </tr>\n",
       "    <tr>\n",
       "      <th>housing</th>\n",
       "      <td>2.0</td>\n",
       "      <td>2.0</td>\n",
       "    </tr>\n",
       "    <tr>\n",
       "      <th>existing_credits</th>\n",
       "      <td>2.0</td>\n",
       "      <td>2.0</td>\n",
       "    </tr>\n",
       "    <tr>\n",
       "      <th>job</th>\n",
       "      <td>1.0</td>\n",
       "      <td>1.0</td>\n",
       "    </tr>\n",
       "    <tr>\n",
       "      <th>num_dependents</th>\n",
       "      <td>2.0</td>\n",
       "      <td>2.0</td>\n",
       "    </tr>\n",
       "    <tr>\n",
       "      <th>own_telephone</th>\n",
       "      <td>0.0</td>\n",
       "      <td>0.0</td>\n",
       "    </tr>\n",
       "    <tr>\n",
       "      <th>foreign_worker</th>\n",
       "      <td>1.0</td>\n",
       "      <td>1.0</td>\n",
       "    </tr>\n",
       "  </tbody>\n",
       "</table>\n",
       "</div>"
      ],
      "text/plain": [
       "                        instance 0  instance 1\n",
       "checking_status                0.0         0.0\n",
       "duration                      28.0        28.0\n",
       "credit_history                 4.0         4.0\n",
       "purpose                        5.0         5.0\n",
       "credit_amount               1047.0      1047.0\n",
       "savings_status                 4.0         4.0\n",
       "employment                     4.0         4.0\n",
       "installment_commitment         3.0         3.0\n",
       "personal_status                0.0         1.0\n",
       "other_parties                  2.0         2.0\n",
       "residence_since                3.0         3.0\n",
       "property_magnitude             2.0         2.0\n",
       "age                           67.0        67.0\n",
       "other_payment_plans            0.0         0.0\n",
       "housing                        2.0         2.0\n",
       "existing_credits               2.0         2.0\n",
       "job                            1.0         1.0\n",
       "num_dependents                 2.0         2.0\n",
       "own_telephone                  0.0         0.0\n",
       "foreign_worker                 1.0         1.0"
      ]
     },
     "execution_count": 20,
     "metadata": {},
     "output_type": "execute_result"
    }
   ],
   "source": [
    "two_examples.T.round(1)"
   ]
  },
  {
   "cell_type": "markdown",
   "id": "3e1abc87-664f-4e0d-b03a-d38090f5c772",
   "metadata": {},
   "source": [
    "The only value that differs between these two exampes are `personal_status`.\n",
    "\n",
    "When we compute the predictions for these two examples, we obtain different classes, even though these two examples only differ in `personal_status`."
   ]
  },
  {
   "cell_type": "code",
   "execution_count": 21,
   "id": "7e5ac9d4-4d8e-4f1d-aeb1-de6cefd589c8",
   "metadata": {},
   "outputs": [
    {
     "data": {
      "text/html": [
       "<div>\n",
       "<style scoped>\n",
       "    .dataframe tbody tr th:only-of-type {\n",
       "        vertical-align: middle;\n",
       "    }\n",
       "\n",
       "    .dataframe tbody tr th {\n",
       "        vertical-align: top;\n",
       "    }\n",
       "\n",
       "    .dataframe thead th {\n",
       "        text-align: right;\n",
       "    }\n",
       "</style>\n",
       "<table border=\"1\" class=\"dataframe\">\n",
       "  <thead>\n",
       "    <tr style=\"text-align: right;\">\n",
       "      <th></th>\n",
       "      <th>instance 0</th>\n",
       "      <th>instance 1</th>\n",
       "    </tr>\n",
       "  </thead>\n",
       "  <tbody>\n",
       "    <tr>\n",
       "      <th>class</th>\n",
       "      <td>1.0</td>\n",
       "      <td>0.0</td>\n",
       "    </tr>\n",
       "    <tr>\n",
       "      <th>probability%</th>\n",
       "      <td>97.9</td>\n",
       "      <td>8.3</td>\n",
       "    </tr>\n",
       "    <tr>\n",
       "      <th>raw_score</th>\n",
       "      <td>3.8</td>\n",
       "      <td>-2.4</td>\n",
       "    </tr>\n",
       "  </tbody>\n",
       "</table>\n",
       "</div>"
      ],
      "text/plain": [
       "              instance 0  instance 1\n",
       "class                1.0         0.0\n",
       "probability%        97.9         8.3\n",
       "raw_score            3.8        -2.4"
      ]
     },
     "execution_count": 21,
     "metadata": {},
     "output_type": "execute_result"
    }
   ],
   "source": [
    "predictions = model.predict(two_examples)\n",
    "probabilities = model.predict_proba(two_examples)[:, 1]       # probability of class 1\n",
    "raw_scores = model.predict(two_examples, output_margin=True)  # pre-sigmoid raw scores\n",
    "\n",
    "outputs = pd.DataFrame(np.vstack((\n",
    "                            predictions,\n",
    "                            100*probabilities,\n",
    "                            raw_scores)).T,\n",
    "                       columns=[\"class\", \"probability%\", \"raw_score\"],\n",
    "                       index=[\"instance 0\", \"instance 1\"])\n",
    "outputs.T.round(1)"
   ]
  },
  {
   "cell_type": "code",
   "execution_count": null,
   "id": "d803b33c-9fa4-4564-a276-b7cd28f0b96d",
   "metadata": {},
   "outputs": [],
   "source": []
  }
 ],
 "metadata": {
  "kernelspec": {
   "display_name": "Python 3 (ipykernel)",
   "language": "python",
   "name": "python3"
  },
  "language_info": {
   "codemirror_mode": {
    "name": "ipython",
    "version": 3
   },
   "file_extension": ".py",
   "mimetype": "text/x-python",
   "name": "python",
   "nbconvert_exporter": "python",
   "pygments_lexer": "ipython3",
   "version": "3.11.6"
  }
 },
 "nbformat": 4,
 "nbformat_minor": 5
}
