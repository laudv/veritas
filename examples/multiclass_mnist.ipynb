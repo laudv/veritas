{
 "cells": [
  {
   "cell_type": "code",
   "execution_count": 1,
   "id": "2c0739f6-854d-4257-b5e4-f3c09ef1f32f",
   "metadata": {},
   "outputs": [],
   "source": [
    "%load_ext autoreload\n",
    "%autoreload 2"
   ]
  },
  {
   "cell_type": "code",
   "execution_count": 2,
   "id": "f851b8a3-e5bf-4792-9506-4d9d960d689f",
   "metadata": {},
   "outputs": [],
   "source": [
    "import time\n",
    "from sklearn import datasets\n",
    "from sklearn.model_selection import train_test_split\n",
    "import numpy as np\n",
    "\n",
    "import veritas\n",
    "import xgboost as xgb\n",
    "import tqdm\n",
    "import matplotlib.pyplot as plt\n",
    "from sklearn.metrics import accuracy_score"
   ]
  },
  {
   "cell_type": "markdown",
   "id": "f045e3fb-30cf-45d5-85f3-e925479799a6",
   "metadata": {},
   "source": [
    "# Load MNIST from OpenML"
   ]
  },
  {
   "cell_type": "code",
   "execution_count": 3,
   "id": "e16c9219-649f-429d-8f5e-f1d5e7f06aee",
   "metadata": {},
   "outputs": [],
   "source": [
    "X, y_mc = datasets.fetch_openml(data_id=554, return_X_y=True, as_frame=False, parser='auto')\n",
    "X = X.astype(veritas.FloatT)"
   ]
  },
  {
   "cell_type": "code",
   "execution_count": 4,
   "id": "3774ac64-5166-4a81-9823-ccc32a674cbc",
   "metadata": {},
   "outputs": [],
   "source": [
    "y = y_mc.astype(int)\n",
    "xtrain, xtest, ytrain, ytest = train_test_split(X, y, test_size=0.2, shuffle=True, random_state=6)\n",
    "num_classes = 10"
   ]
  },
  {
   "cell_type": "markdown",
   "id": "0a6192bd-375f-428d-b94f-37cd77a4b241",
   "metadata": {},
   "source": [
    "# Train an XGBoost model"
   ]
  },
  {
   "cell_type": "code",
   "execution_count": 5,
   "id": "0686c394-8a18-4c7f-91a6-7a768732d955",
   "metadata": {},
   "outputs": [
    {
     "name": "stdout",
     "output_type": "stream",
     "text": [
      "XGB trained in 3.634887218475342 seconds\n"
     ]
    }
   ],
   "source": [
    "# NOTE performances here are pretty bad, we used small trees to show practicalities of the new methods/structures\n",
    "params = {\n",
    "    \"n_estimators\": 5,\n",
    "    \"num_class\": num_classes,\n",
    "    \"objective\": \"multi:softmax\",\n",
    "    \"eval_metric\": \"merror\",\n",
    "    \n",
    "    \"tree_method\": \"hist\",\n",
    "    \"seed\": 135,\n",
    "    \"max_depth\": 3,#7,\n",
    "    \"learning_rate\": 0.2,\n",
    "    \"colsample_bynode\": 0.75,\n",
    "    \"subsample\": 0.5\n",
    "}\n",
    "model = xgb.XGBClassifier(**params)\n",
    "\n",
    "t = time.time()\n",
    "model.fit(X, y)\n",
    "print(f\"XGB trained in {time.time()-t} seconds\")"
   ]
  },
  {
   "cell_type": "code",
   "execution_count": 6,
   "id": "41e806a9-5015-40dd-9bf3-9ee5f56bd796",
   "metadata": {
    "tags": []
   },
   "outputs": [
    {
     "name": "stdout",
     "output_type": "stream",
     "text": [
      "Train acc: 0.833, test acc: 0.833 wrt true labels\n"
     ]
    }
   ],
   "source": [
    "ytrain_pred = model.predict(xtrain)\n",
    "ytest_pred = model.predict(xtest)\n",
    "acc_train = accuracy_score(ytrain, ytrain_pred)\n",
    "acc_test = accuracy_score(ytest, ytest_pred)\n",
    "\n",
    "print(f\"Train acc: {acc_train:.3f}, test acc: {acc_test:.3f} wrt true labels\")"
   ]
  },
  {
   "cell_type": "markdown",
   "id": "d0c6fdb8-1972-4fb3-bbf3-539db0e0cda9",
   "metadata": {},
   "source": [
    "# Convert multiclass XGB to a multiclass AddTree"
   ]
  },
  {
   "cell_type": "code",
   "execution_count": 7,
   "id": "200d7862-0117-49b8-9d39-fc0e7d3cb167",
   "metadata": {},
   "outputs": [
    {
     "name": "stdout",
     "output_type": "stream",
     "text": [
      "XGB converter: manually determined base_score [0.5        0.5        0.50000001 0.50000009 0.50000005 0.50000001\n",
      " 0.49999996 0.50000009 0.49999995 0.50000001]  (dump value 0.500000)\n"
     ]
    }
   ],
   "source": [
    "at = veritas.get_addtree(model)"
   ]
  },
  {
   "cell_type": "code",
   "execution_count": 8,
   "id": "f9a3120a-9d35-41e1-ba4e-b88bcc95f261",
   "metadata": {},
   "outputs": [
    {
     "name": "stdout",
     "output_type": "stream",
     "text": [
      "Node(id=0, split=[F358 < 65], sz=15, left=1, right=2)\n",
      "├─ Node(id=1, split=[F407 < 1], sz=7, left=3, right=4)\n",
      "│  ├─ Node(id=3, split=[F512 < 64], sz=3, left=5, right=6)\n",
      "│  │  ├─ Leaf(id=5, sz=1, value=[-0.0443172, 0, 0, 0, 0, 0, 0, 0, 0, 0])\n",
      "│  │  └─ Leaf(id=6, sz=1, value=[0.342307, 0, 0, 0, 0, 0, 0, 0, 0, 0])\n",
      "│  ├─ Node(id=4, split=[F332 < 250], sz=3, left=7, right=8)\n",
      "│  │  ├─ Leaf(id=7, sz=1, value=[-0.108874, 0, 0, 0, 0, 0, 0, 0, 0, 0])\n",
      "│  │  └─ Leaf(id=8, sz=1, value=[0.160305, 0, 0, 0, 0, 0, 0, 0, 0, 0])\n",
      "├─ Node(id=2, split=[F462 < 1], sz=7, left=9, right=10)\n",
      "│  ├─ Node(id=9, split=[F567 < 1], sz=3, left=11, right=12)\n",
      "│  │  ├─ Leaf(id=11, sz=1, value=[0.282737, 0, 0, 0, 0, 0, 0, 0, 0, 0])\n",
      "│  │  └─ Leaf(id=12, sz=1, value=[0.922592, 0, 0, 0, 0, 0, 0, 0, 0, 0])\n",
      "│  ├─ Node(id=10, split=[F509 < 235], sz=3, left=13, right=14)\n",
      "│  │  ├─ Leaf(id=13, sz=1, value=[-0.0791489, 0, 0, 0, 0, 0, 0, 0, 0, 0])\n",
      "│  │  └─ Leaf(id=14, sz=1, value=[0.215956, 0, 0, 0, 0, 0, 0, 0, 0, 0])\n",
      "\n"
     ]
    }
   ],
   "source": [
    "print(at[0])"
   ]
  },
  {
   "cell_type": "code",
   "execution_count": 9,
   "id": "24603b43-5437-48e3-a9fe-5874fe6c53ec",
   "metadata": {},
   "outputs": [
    {
     "name": "stdout",
     "output_type": "stream",
     "text": [
      "Node(id=0, split=[F437 < 1], sz=15, left=1, right=2)\n",
      "├─ Node(id=1, split=[F550 < 1], sz=7, left=3, right=4)\n",
      "│  ├─ Node(id=3, split=[F346 < 1], sz=3, left=5, right=6)\n",
      "│  │  ├─ Leaf(id=5, sz=1, value=[0, 0.386617, 0, 0, 0, 0, 0, 0, 0, 0])\n",
      "│  │  └─ Leaf(id=6, sz=1, value=[0, -0.0907352, 0, 0, 0, 0, 0, 0, 0, 0])\n",
      "│  ├─ Node(id=4, split=[F435 < 236], sz=3, left=7, right=8)\n",
      "│  │  ├─ Leaf(id=7, sz=1, value=[0, -0.106681, 0, 0, 0, 0, 0, 0, 0, 0])\n",
      "│  │  └─ Leaf(id=8, sz=1, value=[0, -0.00861321, 0, 0, 0, 0, 0, 0, 0, 0])\n",
      "├─ Node(id=2, split=[F323 < 245], sz=7, left=9, right=10)\n",
      "│  ├─ Node(id=9, split=[F437 < 37], sz=3, left=11, right=12)\n",
      "│  │  ├─ Leaf(id=11, sz=1, value=[0, -0.0840774, 0, 0, 0, 0, 0, 0, 0, 0])\n",
      "│  │  └─ Leaf(id=12, sz=1, value=[0, -0.107534, 0, 0, 0, 0, 0, 0, 0, 0])\n",
      "│  ├─ Node(id=10, split=[F466 < 1], sz=3, left=13, right=14)\n",
      "│  │  ├─ Leaf(id=13, sz=1, value=[0, 0.181212, 0, 0, 0, 0, 0, 0, 0, 0])\n",
      "│  │  └─ Leaf(id=14, sz=1, value=[0, -0.102898, 0, 0, 0, 0, 0, 0, 0, 0])\n",
      "\n"
     ]
    }
   ],
   "source": [
    "print(at[6])"
   ]
  },
  {
   "cell_type": "code",
   "execution_count": 10,
   "id": "c9dee0a4-88af-4b2b-8329-e22662fb374a",
   "metadata": {},
   "outputs": [
    {
     "name": "stdout",
     "output_type": "stream",
     "text": [
      "Node(id=0, split=[F358 < 65], sz=15, left=1, right=2)\n",
      "├─ Node(id=1, split=[F407 < 1], sz=7, left=3, right=4)\n",
      "│  ├─ Node(id=3, split=[F512 < 64], sz=3, left=5, right=6)\n",
      "│  │  ├─ Leaf(id=5, sz=1, value=[0, -0.0443172, 0, 0, 0, 0, 0, 0, 0, 0])\n",
      "│  │  └─ Leaf(id=6, sz=1, value=[0, 0.342307, 0, 0, 0, 0, 0, 0, 0, 0])\n",
      "│  ├─ Node(id=4, split=[F332 < 250], sz=3, left=7, right=8)\n",
      "│  │  ├─ Leaf(id=7, sz=1, value=[0, -0.108874, 0, 0, 0, 0, 0, 0, 0, 0])\n",
      "│  │  └─ Leaf(id=8, sz=1, value=[0, 0.160305, 0, 0, 0, 0, 0, 0, 0, 0])\n",
      "├─ Node(id=2, split=[F462 < 1], sz=7, left=9, right=10)\n",
      "│  ├─ Node(id=9, split=[F567 < 1], sz=3, left=11, right=12)\n",
      "│  │  ├─ Leaf(id=11, sz=1, value=[0, 0.282737, 0, 0, 0, 0, 0, 0, 0, 0])\n",
      "│  │  └─ Leaf(id=12, sz=1, value=[0, 0.922592, 0, 0, 0, 0, 0, 0, 0, 0])\n",
      "│  ├─ Node(id=10, split=[F509 < 235], sz=3, left=13, right=14)\n",
      "│  │  ├─ Leaf(id=13, sz=1, value=[0, -0.0791489, 0, 0, 0, 0, 0, 0, 0, 0])\n",
      "│  │  └─ Leaf(id=14, sz=1, value=[0, 0.215956, 0, 0, 0, 0, 0, 0, 0, 0])\n",
      "\n"
     ]
    }
   ],
   "source": [
    "# By default, Veritas optimizes the 0th class. One can swap classes into the first position in order to optimize other classes\n",
    "at.swap_class(1)\n",
    "# the method simply swaps the order of the classes in the leaf value vectors: now in position 0 we have values related to class 1\n",
    "# check first tree as example:\n",
    "print(at[0])"
   ]
  },
  {
   "cell_type": "markdown",
   "id": "08e1e724-8137-49f3-9ab9-922648c60846",
   "metadata": {},
   "source": [
    "# Train a better model, extract one base example"
   ]
  },
  {
   "cell_type": "code",
   "execution_count": 11,
   "id": "72ebc536-d995-48f4-9dd9-b362b965c457",
   "metadata": {},
   "outputs": [
    {
     "name": "stdout",
     "output_type": "stream",
     "text": [
      "XGB trained in 7.375861883163452 seconds\n",
      "Train acc: 0.944, test acc: 0.945 wrt true labels\n"
     ]
    }
   ],
   "source": [
    "# same as above, with deeper trees\n",
    "params[\"max_depth\"] = 7\n",
    "model = xgb.XGBClassifier(**params)\n",
    "\n",
    "t = time.time()\n",
    "model.fit(X, y)\n",
    "print(f\"XGB trained in {time.time()-t} seconds\")\n",
    "\n",
    "ytrain_pred = model.predict(xtrain)\n",
    "ytest_pred = model.predict(xtest)\n",
    "acc_train = accuracy_score(ytrain, ytrain_pred)\n",
    "acc_test = accuracy_score(ytest, ytest_pred)\n",
    "print(f\"Train acc: {acc_train:.3f}, test acc: {acc_test:.3f} wrt true labels\")"
   ]
  },
  {
   "cell_type": "code",
   "execution_count": 12,
   "id": "3d050aca-67a0-4fe9-8394-b14b582cd6b2",
   "metadata": {},
   "outputs": [
    {
     "name": "stdout",
     "output_type": "stream",
     "text": [
      "XGB converter: manually determined base_score [0.50000002 0.49999999 0.50000001 0.50000001 0.5        0.50000002\n",
      " 0.5        0.49999999 0.50000001 0.50000001]  (dump value 0.500000)\n"
     ]
    }
   ],
   "source": [
    "at = veritas.get_addtree(model)"
   ]
  },
  {
   "cell_type": "code",
   "execution_count": 13,
   "id": "c737fa46-0bd8-43bc-bf9f-666799599459",
   "metadata": {},
   "outputs": [
    {
     "data": {
      "text/plain": [
       "<matplotlib.image.AxesImage at 0x7f222c0fdd50>"
      ]
     },
     "execution_count": 13,
     "metadata": {},
     "output_type": "execute_result"
    },
    {
     "data": {
      "image/png": "[encoded data removed]",
      "text/plain": [
       "<Figure size 640x480 with 1 Axes>"
      ]
     },
     "metadata": {},
     "output_type": "display_data"
    }
   ],
   "source": [
    "# select one example of class 1\n",
    "number_of_adv_examples = 1\n",
    "\n",
    "rng = np.random.default_rng(seed=6)\n",
    "xtest0 = xtest[ytest_pred==1, :]\n",
    "subset = xtest0[rng.choice(range(xtest0.shape[0]), number_of_adv_examples), :].astype(veritas.FloatT)\n",
    "\n",
    "plt.imshow((subset[0, :]).reshape((28,28)), cmap=\"binary\")"
   ]
  },
  {
   "cell_type": "code",
   "execution_count": 14,
   "id": "cab2dafa-553d-4e1d-a7de-45ab31b4c9e3",
   "metadata": {},
   "outputs": [
    {
     "data": {
      "text/plain": [
       "(array([[0.04417546, 0.59047586, 0.04704807, 0.04537885, 0.04444005,\n",
       "         0.04573073, 0.04549549, 0.04539688, 0.04544771, 0.04641085]],\n",
       "       dtype=float32),\n",
       " array([[0.04417547, 0.59047583, 0.04704808, 0.04537886, 0.04444006,\n",
       "         0.04573074, 0.0454955 , 0.04539689, 0.04544772, 0.04641086]]))"
      ]
     },
     "execution_count": 14,
     "metadata": {},
     "output_type": "execute_result"
    }
   ],
   "source": [
    "# test outputs for chosen base example\n",
    "base_example = subset[0, :]\n",
    "y_xgb = model.predict_proba(subset)\n",
    "y_ats = at.predict(subset)\n",
    "y_xgb, y_ats"
   ]
  },
  {
   "cell_type": "markdown",
   "id": "423d5fea-8c14-4981-b6dd-69c48d67cdfe",
   "metadata": {},
   "source": [
    "# MAX_MAX example: targeted attack - one adv. ex. per class"
   ]
  },
  {
   "cell_type": "code",
   "execution_count": 15,
   "id": "a3cde063-ec63-41b5-959e-74e39ea866d0",
   "metadata": {},
   "outputs": [],
   "source": [
    "# idea: we start with a base example of class 1\n",
    "# we try to generate an adversarial example classfied in each of the other classes (0, 2, 3, ..., 9)\n",
    "# a soltuion for class 0 is the solution to the maximization problem: \n",
    "# max_x [ T_0(x) - max_c (T_c(x)) ]\n",
    "# i.e., class0 is preferred over each other class"
   ]
  },
  {
   "cell_type": "code",
   "execution_count": 16,
   "id": "5c6ad94d-fc5f-47fa-a6e6-cae887c7c681",
   "metadata": {},
   "outputs": [
    {
     "name": "stdout",
     "output_type": "stream",
     "text": [
      "0\n",
      "[-0.03833442  2.55442471  0.02466609 -0.01145763 -0.03236276 -0.00373325\n",
      " -0.00889066 -0.0110605  -0.00994132  0.01102955]\n",
      "[ 0.11052552 -0.00879231 -0.00747202 -0.01308482 -0.00747558 -0.00932727\n",
      " -0.00708447 -0.01233514 -0.01096541 -0.01351509]\n",
      "0.11760998763207349\n",
      "\n",
      "\n",
      "2\n",
      "[-0.03833442  2.55442471  0.02466609 -0.01145763 -0.03236276 -0.00373325\n",
      " -0.00889066 -0.0110605  -0.00994132  0.01102955]\n",
      "[-3.83344169e-02  8.12967891e-02  2.77504839e+00  3.81985871e-02\n",
      " -3.23627645e-02  4.08028617e-02  9.97873736e-03  4.84941308e-03\n",
      " -1.49903818e-02 -2.22443214e-03]\n",
      "2.693751606976157\n",
      "\n",
      "\n",
      "3\n",
      "[-0.03833442  2.55442471  0.02466609 -0.01145763 -0.03236276 -0.00373325\n",
      " -0.00889066 -0.0110605  -0.00994132  0.01102955]\n",
      "[-0.03833442  0.08129679  0.07904958  1.32245938 -0.0355055  -0.01327924\n",
      "  0.07037354 -0.01444804  0.01785042  0.01039507]\n",
      "1.2411626001761575\n",
      "\n",
      "\n",
      "4\n",
      "[-0.03833442  2.55442471  0.02466609 -0.01145763 -0.03236276 -0.00373325\n",
      " -0.00889066 -0.0110605  -0.00994132  0.01102955]\n",
      "[-0.03833442  0.00368459  0.01691068  0.01354863  0.35167264 -0.00296853\n",
      "  0.00063019 -0.01761342  0.01510351 -0.008762  ]\n",
      "0.3347619773105789\n",
      "\n",
      "\n",
      "5\n",
      "[-0.03833442  2.55442471  0.02466609 -0.01145763 -0.03236276 -0.00373325\n",
      " -0.00889066 -0.0110605  -0.00994132  0.01102955]\n",
      "[-0.03833442  0.06542094  0.06091539  0.03115987 -0.03258454  2.35872279\n",
      "  0.05909799 -0.01464971  0.01141121  0.03089315]\n",
      "2.2933018623761576\n",
      "\n",
      "\n",
      "6\n",
      "[-0.03833442  2.55442471  0.02466609 -0.01145763 -0.03236276 -0.00373325\n",
      " -0.00889066 -0.0110605  -0.00994132  0.01102955]\n",
      "[-3.83344169e-02  3.68459231e-03  4.09364680e-04  2.62669186e-03\n",
      " -3.23627645e-02 -7.25859892e-03  2.27062477e+00 -1.99279919e-02\n",
      " -5.91635682e-03 -1.78750927e-02]\n",
      "2.266940200776157\n",
      "\n",
      "\n",
      "7\n",
      "[-0.03833442  2.55442471  0.02466609 -0.01145763 -0.03236276 -0.00373325\n",
      " -0.00889066 -0.0110605  -0.00994132  0.01102955]\n",
      "[-0.03833442 -0.01117644  0.01806211  0.00591377 -0.03236276  0.00283439\n",
      "  0.00405536  1.10162961  0.01510351  0.00201873]\n",
      "1.0835675372105789\n",
      "\n",
      "\n",
      "8\n",
      "[-0.03833442  2.55442471  0.02466609 -0.01145763 -0.03236276 -0.00373325\n",
      " -0.00889066 -0.0110605  -0.00994132  0.01102955]\n",
      "[-3.83344169e-02  8.72549364e-02  8.67360081e-02  7.51439356e-02\n",
      " -3.25845385e-02  4.04288949e-02 -1.56237007e-02 -1.41334070e-02\n",
      "  2.09468353e+00  6.25578557e-04]\n",
      "2.0074286048361576\n",
      "\n",
      "\n",
      "9\n",
      "[-0.03833442  2.55442471  0.02466609 -0.01145763 -0.03236276 -0.00373325\n",
      " -0.00889066 -0.0110605  -0.00994132  0.01102955]\n",
      "[-3.83344169e-02 -1.04477364e-02 -3.49079072e-03 -1.14576253e-02\n",
      " -6.54570497e-03 -3.73324522e-03  6.30187559e-04 -1.21334699e-02\n",
      " -5.91635682e-03  2.03967581e+00]\n",
      "2.039045642532073\n",
      "\n",
      "\n"
     ]
    }
   ],
   "source": [
    "### MAX_MAX multiclass\n",
    "\n",
    "adv_examples = []\n",
    "atc = at.copy()\n",
    "eps  = 10\n",
    "\n",
    "# once per class (class0 --> class1, class0 --> class2, ...)\n",
    "for c in range(0, num_classes):\n",
    "    if c==1:\n",
    "        continue\n",
    "        \n",
    "    print(c)\n",
    "    atc.swap_class(c)\n",
    "\n",
    "    config = veritas.Config(veritas.HeuristicType.MULTI_MAX_MAX_OUTPUT_DIFF)\n",
    "    config.ignore_state_when_worse_than = 0.0\n",
    "    prune_box = [veritas.Interval(max(0.0, x-eps), min(255, x+eps)) for x in base_example]\n",
    "    s = config.get_search(atc, prune_box)\n",
    "    s.set_max_memory(16*1024*1024*1024)\n",
    "\n",
    "    tstart = time.time()\n",
    "    while s.num_solutions() == 0:\n",
    "        stop_reason = s.steps(1000)\n",
    "        #print(s.stats.num_steps, stop_reason)\n",
    "        if stop_reason != veritas.StopReason.NONE:\n",
    "            break\n",
    "        \n",
    "    tstop = time.time()\n",
    "\n",
    "    atc.swap_class(c) #go back to original addtree for evaluation\n",
    "\n",
    "    if s.num_solutions() > 0:\n",
    "        sol = s.get_solution(0)\n",
    "        adv_example = veritas.get_closest_example(sol, base_example, 1e-5)\n",
    "\n",
    "        res = {\"c\": c, \"adv_example\": adv_example, \"base_example\": base_example}\n",
    "\n",
    "        print(at.eval(base_example)[0])\n",
    "        print(at.eval(adv_example)[0])\n",
    "        print(sol.output)\n",
    "        print()\n",
    "        print()\n",
    "\n",
    "        adv_examples.append(res)\n",
    "        \n",
    "    else:\n",
    "        print(\"no adversarial examples found for\", c)\n",
    "\n",
    "    #break"
   ]
  },
  {
   "cell_type": "code",
   "execution_count": 17,
   "id": "300b4236-3c56-4794-a12e-cfcdcec35750",
   "metadata": {},
   "outputs": [
    {
     "data": {
      "image/png": "[encoded data removed]",
      "text/plain": [
       "<Figure size 640x480 with 3 Axes>"
      ]
     },
     "metadata": {},
     "output_type": "display_data"
    },
    {
     "data": {
      "image/png": "[encoded data removed]",
      "text/plain": [
       "<Figure size 640x480 with 3 Axes>"
      ]
     },
     "metadata": {},
     "output_type": "display_data"
    },
    {
     "data": {
      "image/png": "[encoded data removed]",
      "text/plain": [
       "<Figure size 640x480 with 3 Axes>"
      ]
     },
     "metadata": {},
     "output_type": "display_data"
    },
    {
     "data": {
      "image/png": "[encoded data removed]",
      "text/plain": [
       "<Figure size 640x480 with 3 Axes>"
      ]
     },
     "metadata": {},
     "output_type": "display_data"
    },
    {
     "data": {
      "image/png": "[encoded data removed]",
      "text/plain": [
       "<Figure size 640x480 with 3 Axes>"
      ]
     },
     "metadata": {},
     "output_type": "display_data"
    },
    {
     "data": {
      "image/png": "[encoded data removed]",
      "text/plain": [
       "<Figure size 640x480 with 3 Axes>"
      ]
     },
     "metadata": {},
     "output_type": "display_data"
    },
    {
     "data": {
      "image/png": "[encoded data removed]",
      "text/plain": [
       "<Figure size 640x480 with 3 Axes>"
      ]
     },
     "metadata": {},
     "output_type": "display_data"
    },
    {
     "data": {
      "image/png": "[encoded data removed]",
      "text/plain": [
       "<Figure size 640x480 with 3 Axes>"
      ]
     },
     "metadata": {},
     "output_type": "display_data"
    },
    {
     "data": {
      "image/png": "[encoded data removed]",
      "text/plain": [
       "<Figure size 640x480 with 3 Axes>"
      ]
     },
     "metadata": {},
     "output_type": "display_data"
    }
   ],
   "source": [
    "for i, res in enumerate(adv_examples):\n",
    "    fig, ax = plt.subplots(1, 3)\n",
    "    ax[0].imshow((res[\"base_example\"]).reshape((28,28)), cmap=\"binary\")\n",
    "    base_class = np.argmax(at.eval(res[\"base_example\"])[0])\n",
    "    ax[0].set_title(f\"Predicted class = {base_class}\")\n",
    "    adv_class = np.argmax(at.eval(res[\"adv_example\"])[0])\n",
    "    ax[1].imshow((res[\"adv_example\"]).reshape((28,28)), cmap=\"binary\")\n",
    "    ax[1].set_title(f\"Predicted class = {adv_class}\")\n",
    "    ax[2].imshow((res[\"adv_example\"]-res[\"base_example\"]).reshape((28,28)))\n",
    "    max_diff = np.max(np.abs(res[\"base_example\"]-res[\"adv_example\"]))\n",
    "    ax[2].set_title(f\"Max pixel diff. = {int(max_diff)}\")"
   ]
  },
  {
   "cell_type": "code",
   "execution_count": 18,
   "id": "7d87886f-ec7c-4178-a393-a76dc64f8609",
   "metadata": {},
   "outputs": [
    {
     "name": "stdout",
     "output_type": "stream",
     "text": [
      "no adversarial examples found for class 4\n"
     ]
    }
   ],
   "source": [
    "# smaller eps so that we sometime fail\n",
    "eps = 5\n",
    "adv_examples = []\n",
    "atc = at.copy()\n",
    "\n",
    "# once per class (class0 --> class1, class0 --> class2, ...)\n",
    "for c in range(0, num_classes):\n",
    "    if c==1:\n",
    "        continue\n",
    "        \n",
    "    #print(c)\n",
    "    atc.swap_class(c)\n",
    "\n",
    "    config = veritas.Config(veritas.HeuristicType.MULTI_MAX_MAX_OUTPUT_DIFF)\n",
    "    config.ignore_state_when_worse_than = 0.0\n",
    "    prune_box = [veritas.Interval(max(0.0, x-eps), min(255, x+eps)) for x in base_example]\n",
    "    s = config.get_search(atc, prune_box)\n",
    "    s.set_max_memory(16*1024*1024*1024)\n",
    "\n",
    "    tstart = time.time()\n",
    "    while s.num_solutions() == 0:\n",
    "        stop_reason = s.steps(1000)\n",
    "        if stop_reason != veritas.StopReason.NONE:\n",
    "            break\n",
    "        \n",
    "    tstop = time.time()\n",
    "\n",
    "    atc.swap_class(c)\n",
    "\n",
    "    if s.num_solutions() > 0:\n",
    "        sol = s.get_solution(0)\n",
    "        adv_example = veritas.get_closest_example(sol, base_example, 1e-5)\n",
    "\n",
    "        res = {\"i\": i, \"adv_example\": adv_example, \"base_example\": base_example}\n",
    "        adv_examples.append(res)\n",
    "        \n",
    "    else:\n",
    "        print(\"no adversarial examples found for class\", c)"
   ]
  },
  {
   "cell_type": "code",
   "execution_count": 19,
   "id": "374a4e95-d8d6-47e5-8915-207064a1f0e0",
   "metadata": {},
   "outputs": [],
   "source": [
    "# we did not find an adv. ex. for class 4\n",
    "# what if we do simple binary classification 4vAll (trying to maximize for class 4)?"
   ]
  },
  {
   "cell_type": "code",
   "execution_count": 20,
   "id": "05871361-1b8f-4490-aaed-2296c24567de",
   "metadata": {},
   "outputs": [
    {
     "name": "stdout",
     "output_type": "stream",
     "text": [
      "c 4\n",
      "[-2.58678747]\n",
      "[0.00176948] 0.0017694795199750535\n",
      "\n",
      "[-0.03833442  2.55442471  0.02466609 -0.01145763 -0.03236276 -0.00373325\n",
      " -0.00889066 -0.0110605  -0.00994132  0.01102955]\n",
      "[-0.03833442 -0.03413224  0.02466609 -0.01145763 -0.03236276 -0.00373325\n",
      " -0.00889066 -0.0110605  -0.00994132  0.01102955] 0.0017694795199750535\n",
      "  ==> predicted class: 2\n",
      "\n"
     ]
    }
   ],
   "source": [
    "### MAX_OUTPUT binary classification setting\n",
    "\n",
    "# only take trees for c vs 1\n",
    "for c in range(0, num_classes):\n",
    "\n",
    "    #if c==1:\n",
    "    if c!=4:\n",
    "        continue\n",
    "\n",
    "    print(\"c\", c)\n",
    "    \n",
    "    atc1 = at.contrast_classes(c, 1)\n",
    "\n",
    "    config = veritas.Config(veritas.HeuristicType.MAX_OUTPUT)\n",
    "    config.ignore_state_when_worse_than = 0.0\n",
    "    prune_box = [veritas.Interval(max(0.0, x-eps), min(255, x+eps)) for x in base_example]\n",
    "    s = config.get_search(atc1, prune_box)\n",
    "    s.set_max_memory(16*1024*1024*1024)\n",
    "    \n",
    "    while s.num_solutions() == 0:\n",
    "        if s.steps(100) != veritas.StopReason.NONE:\n",
    "            break\n",
    "    \n",
    "    if s.num_solutions() > 0:\n",
    "        sol = s.get_solution(0)\n",
    "        adv_example = veritas.get_closest_example(sol, base_example, 1e-5)\n",
    "\n",
    "        if c==4:\n",
    "            print(atc1.eval(base_example)[0])\n",
    "            print(atc1.eval(adv_example)[0], sol.output)\n",
    "            print()\n",
    "            print(at.eval(base_example)[0])\n",
    "            print(at.eval(adv_example)[0], sol.output)\n",
    "            print(\"  ==> predicted class:\", np.argmax(at.eval(adv_example)[0]))\n",
    "            print()\n",
    "        \n",
    "    else:\n",
    "        print(\"no adversarial examples found\")"
   ]
  },
  {
   "cell_type": "code",
   "execution_count": 21,
   "id": "dd609648-4bd0-4e05-aab8-f9c676a944ae",
   "metadata": {},
   "outputs": [],
   "source": [
    "# We find a result, BUT inspecting the evaluation on the full addTree we see that \n",
    "# such result would not be classified as Class 4 in a multiclass setting - it would be a 2! \n",
    "# The two problems are slightly different."
   ]
  },
  {
   "cell_type": "code",
   "execution_count": null,
   "id": "84a1d216-7569-4e44-965b-5cf35564e61b",
   "metadata": {},
   "outputs": [],
   "source": []
  }
 ],
 "metadata": {
  "kernelspec": {
   "display_name": "Python 3 (ipykernel)",
   "language": "python",
   "name": "python3"
  },
  "language_info": {
   "codemirror_mode": {
    "name": "ipython",
    "version": 3
   },
   "file_extension": ".py",
   "mimetype": "text/x-python",
   "name": "python",
   "nbconvert_exporter": "python",
   "pygments_lexer": "ipython3",
   "version": "3.11.4"
  }
 },
 "nbformat": 4,
 "nbformat_minor": 5
}
